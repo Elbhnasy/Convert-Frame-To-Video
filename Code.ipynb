{
 "cells": [
  {
   "cell_type": "code",
   "execution_count": 7,
   "outputs": [
    {
     "name": "stdout",
     "output_type": "stream",
     "text": [
      "Collecting opencv-python\r\n",
      "  Downloading opencv_python-4.7.0.68-cp37-abi3-manylinux_2_17_x86_64.manylinux2014_x86_64.whl (61.8 MB)\r\n",
      "\u001B[2K     \u001B[90m━━━━━━━━━━━━━━━━━━━━━━━━━━━━━━━━━━━━━━━\u001B[0m \u001B[32m61.8/61.8 MB\u001B[0m \u001B[31m501.8 kB/s\u001B[0m eta \u001B[36m0:00:00\u001B[0m00:01\u001B[0m00:04\u001B[0m\r\n",
      "\u001B[?25hRequirement already satisfied: numpy>=1.17.0 in /home/fox/AICoding/envs/T13.1/lib/python3.10/site-packages (from opencv-python) (1.24.1)\r\n",
      "Installing collected packages: opencv-python\r\n",
      "Successfully installed opencv-python-4.7.0.68\r\n"
     ]
    }
   ],
   "source": [
    "!pip install opencv-python"
   ],
   "metadata": {
    "collapsed": false
   }
  },
  {
   "cell_type": "code",
   "execution_count": 8,
   "id": "db7e13fc",
   "metadata": {},
   "outputs": [],
   "source": [
    "import os \n",
    "import cv2"
   ]
  },
  {
   "cell_type": "code",
   "execution_count": 9,
   "id": "dbb72c32",
   "metadata": {},
   "outputs": [],
   "source": [
    "image_dir = 'Data'\n",
    "\n",
    "for image_folder in os.listdir(image_dir):\n",
    "    # Set the name of the video file\n",
    "    video_name = f'video_{image_folder}.mp4'\n",
    "    \n",
    "    # Get the list of image files in the current folder\n",
    "    images = [img for img in os.listdir(os.path.join(image_dir, image_folder)) if img.endswith(\".jpg\")]\n",
    "\n",
    "    # Sort the images in the order you want them to appear in the video\n",
    "    images.sort()\n",
    "\n",
    "    # Determine the width and height of the images and set the fourcc codec\n",
    "    frame = cv2.imread(os.path.join(image_dir, image_folder, images[0]))\n",
    "    #print(frame.shape)\n",
    "    height, width, layers = frame.shape\n",
    "\n",
    "    fourcc = cv2.VideoWriter_fourcc(*'mp4v')\n",
    "    # Create the video writer object\n",
    "    video = cv2.VideoWriter(video_name, fourcc, 30, (width,height))\n",
    "\n",
    "    # Iterate through the images and add them to the vide\n",
    "    for image in images:\n",
    "        video.write(cv2.imread(os.path.join(image_dir, image_folder, image)))\n",
    "\n",
    "    # Release the video writer object and close all windows\n",
    "    cv2.destroyAllWindows()\n",
    "    video.release()\n"
   ]
  },
  {
   "cell_type": "code",
   "execution_count": 10,
   "id": "ffe97e94",
   "metadata": {},
   "outputs": [],
   "source": [
    "# Store the output in one dir\n",
    "import os\n",
    "import shutil\n",
    "\n",
    "src_folder = \".\"\n",
    "dst_folder = \"output\"\n",
    "\n",
    "if not os.path.exists(dst_folder):\n",
    "    os.mkdir(dst_folder)\n",
    "\n",
    "for filename in os.listdir(src_folder):\n",
    "    if filename.endswith(\".mp4\"):\n",
    "        shutil.move(os.path.join(src_folder, filename), os.path.join(dst_folder, filename))\n"
   ]
  },
  {
   "cell_type": "code",
   "execution_count": null,
   "outputs": [],
   "source": [],
   "metadata": {
    "collapsed": false
   }
  }
 ],
 "metadata": {
  "kernelspec": {
   "display_name": "Python 3 (ipykernel)",
   "language": "python",
   "name": "python3"
  },
  "language_info": {
   "codemirror_mode": {
    "name": "ipython",
    "version": 3
   },
   "file_extension": ".py",
   "mimetype": "text/x-python",
   "name": "python",
   "nbconvert_exporter": "python",
   "pygments_lexer": "ipython3",
   "version": "3.10.6"
  }
 },
 "nbformat": 4,
 "nbformat_minor": 5
}
