{
  "nbformat": 4,
  "nbformat_minor": 0,
  "metadata": {
    "colab": {
      "provenance": [],
      "mount_file_id": "1ZwVyBxtLWL8rUVet645z50wkCs4sfTPg",
      "authorship_tag": "ABX9TyMzsHbidDjjNKAojPWr0p1r",
      "include_colab_link": true
    },
    "kernelspec": {
      "name": "python3",
      "display_name": "Python 3"
    },
    "language_info": {
      "name": "python"
    }
  },
  "cells": [
    {
      "cell_type": "markdown",
      "metadata": {
        "id": "view-in-github",
        "colab_type": "text"
      },
      "source": [
        "<a href=\"https://colab.research.google.com/github/Elbhnasy/Convert-Frame-to-Video/blob/master/convert_Frame_to_V.ipynb\" target=\"_parent\"><img src=\"https://colab.research.google.com/assets/colab-badge.svg\" alt=\"Open In Colab\"/></a>"
      ]
    },
    {
      "cell_type": "code",
      "source": [
        "from google.colab import drive\n",
        "drive.mount('/content/drive')"
      ],
      "metadata": {
        "colab": {
          "base_uri": "https://localhost:8080/"
        },
        "id": "bp93EDsugcrC",
        "outputId": "4a03011f-0603-435d-9170-4263fa5cf1d5"
      },
      "execution_count": 1,
      "outputs": [
        {
          "output_type": "stream",
          "name": "stdout",
          "text": [
            "Drive already mounted at /content/drive; to attempt to forcibly remount, call drive.mount(\"/content/drive\", force_remount=True).\n"
          ]
        }
      ]
    },
    {
      "cell_type": "code",
      "source": [
        "%cd /content/drive/MyDrive/Colab WorkArea/test-2/\n",
        "%mkdir output\n",
        "%cd output/"
      ],
      "metadata": {
        "colab": {
          "base_uri": "https://localhost:8080/"
        },
        "id": "scMxVVCZh8Q9",
        "outputId": "b573e10b-31d1-4b66-8544-b7b1aa268d15"
      },
      "execution_count": 2,
      "outputs": [
        {
          "output_type": "stream",
          "name": "stdout",
          "text": [
            "/content/drive/MyDrive/Colab WorkArea/test-2\n",
            "mkdir: cannot create directory ‘output’: File exists\n",
            "/content/drive/MyDrive/Colab WorkArea/test-2/output\n"
          ]
        }
      ]
    },
    {
      "cell_type": "code",
      "execution_count": 3,
      "metadata": {
        "id": "P_zlg86MalYK"
      },
      "outputs": [],
      "source": [
        "import cv2\n",
        "import os\n",
        "\n",
        "def frames_to_video(image_dir):\n",
        "    \"\"\"\n",
        "    Converts a folder of image frames to a video.\n",
        "\n",
        "    Args:\n",
        "        image_dir (str): Path to the folder containing the image frames.\n",
        "    \"\"\"\n",
        "    for image_folder in os.listdir(image_dir):\n",
        "        # Set the name of the video file\n",
        "        video_name = f'video_{image_folder}.mp4'\n",
        "        \n",
        "        # Get the list of image files in the current folder\n",
        "        images = [img for img in os.listdir(os.path.join(image_dir, image_folder)) if img.endswith(\".jpg\")]\n",
        "\n",
        "        # Check if images list is empty\n",
        "        if len(images) == 0:\n",
        "            print(f\"No image files found in {os.path.join(image_dir, image_folder)}. Skipping folder...\")\n",
        "            continue\n",
        "\n",
        "        # Sort the images in the order you want them to appear in the video\n",
        "        images.sort()\n",
        "\n",
        "        # Determine the width and height of the images and set the fourcc codec\n",
        "        frame = cv2.imread(os.path.join(image_dir, image_folder, images[0]))\n",
        "        height, width, layers = frame.shape\n",
        "        fourcc = cv2.VideoWriter_fourcc(*'mp4v')\n",
        "\n",
        "        # Create the video writer object\n",
        "        video = cv2.VideoWriter(video_name, fourcc, 30, (width,height))\n",
        "\n",
        "        # Iterate through the images and add them to the video\n",
        "        for image in images:\n",
        "            video.write(cv2.imread(os.path.join(image_dir, image_folder, image)))\n",
        "\n",
        "        # Release the video writer object and close all windows\n",
        "        cv2.destroyAllWindows()\n",
        "        video.release()\n",
        "\n",
        "\n",
        "folder_path = '/content/drive/MyDrive/Colab WorkArea/test-2/test'\n",
        "for f_folder in os.listdir(folder_path):\n",
        "    if os.path.isdir(os.path.join(folder_path, f_folder)):\n",
        "        frames_to_video(os.path.join(folder_path, f_folder))"
      ]
    },
    {
      "cell_type": "code",
      "source": [],
      "metadata": {
        "id": "DnxtVtedk0T9"
      },
      "execution_count": null,
      "outputs": []
    }
  ]
}